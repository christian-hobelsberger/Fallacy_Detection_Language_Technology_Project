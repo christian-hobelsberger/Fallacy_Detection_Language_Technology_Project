{
 "cells": [
  {
   "cell_type": "code",
   "execution_count": 54,
   "metadata": {},
   "outputs": [],
   "source": [
    "def calc_span(paragraph, sentence):\n",
    "    if isinstance(sentence, dict):\n",
    "        if sentence.__contains__('text'):\n",
    "            text = sentence.get('text') \n",
    "            if text in paragraph:\n",
    "                start = paragraph.find(text)\n",
    "                end = paragraph.find(text) + len(text)\n",
    "                return [start, end]\n",
    "        else:\n",
    "            return \"invalid format\"\n",
    "    elif isinstance(sentence, str):\n",
    "        if sentence in paragraph:\n",
    "            start = paragraph.find(text)\n",
    "            end = paragraph.find(text) + len(text)\n",
    "            return [start, end]\n",
    "        else:\n",
    "            return \"sentence not found\"\n",
    "    else:\n",
    "        return \"invalid format\"\n",
    "\n",
    "                 "
   ]
  },
  {
   "cell_type": "code",
   "execution_count": 56,
   "metadata": {},
   "outputs": [],
   "source": [
    "def convert_to_eval_format(paragraph, prediction):\n",
    "    span = calc_span(paragraph, prediction)\n",
    "    if isinstance(span, list):\n",
    "        return {paragraph: {prediction['class']: span}}\n",
    "    else:\n",
    "        return \"invalid\""
   ]
  },
  {
   "cell_type": "code",
   "execution_count": 8,
   "metadata": {},
   "outputs": [
    {
     "name": "stdout",
     "output_type": "stream",
     "text": [
      "Requirement already satisfied: pandas in c:\\users\\abi\\appdata\\local\\programs\\python\\python311\\lib\\site-packages (2.2.2)\n",
      "Requirement already satisfied: numpy>=1.23.2 in c:\\users\\abi\\appdata\\local\\programs\\python\\python311\\lib\\site-packages (from pandas) (1.26.4)\n",
      "Requirement already satisfied: python-dateutil>=2.8.2 in c:\\users\\abi\\appdata\\roaming\\python\\python311\\site-packages (from pandas) (2.8.2)\n",
      "Requirement already satisfied: pytz>=2020.1 in c:\\users\\abi\\appdata\\local\\programs\\python\\python311\\lib\\site-packages (from pandas) (2024.1)\n",
      "Requirement already satisfied: tzdata>=2022.7 in c:\\users\\abi\\appdata\\local\\programs\\python\\python311\\lib\\site-packages (from pandas) (2024.1)\n",
      "Requirement already satisfied: six>=1.5 in c:\\users\\abi\\appdata\\roaming\\python\\python311\\site-packages (from python-dateutil>=2.8.2->pandas) (1.16.0)\n",
      "Note: you may need to restart the kernel to use updated packages.\n"
     ]
    },
    {
     "name": "stderr",
     "output_type": "stream",
     "text": [
      "\n",
      "[notice] A new release of pip is available: 23.2.1 -> 24.0\n",
      "[notice] To update, run: python.exe -m pip install --upgrade pip\n"
     ]
    }
   ],
   "source": [
    "%pip install pandas"
   ]
  },
  {
   "cell_type": "code",
   "execution_count": 33,
   "metadata": {},
   "outputs": [],
   "source": [
    "import json\n",
    "\n",
    "with open('../Data/gold_standard_dataset.jsonl', 'r') as file:\n",
    "    data = [json.loads(line) for line in file]"
   ]
  },
  {
   "cell_type": "code",
   "execution_count": 57,
   "metadata": {},
   "outputs": [
    {
     "name": "stdout",
     "output_type": "stream",
     "text": [
      "[84, 145]\n",
      "{'Two of my best friends are really introverted, shy people, and they both have cats. That leads to me believe that most cat lovers are really shy.\\n': {'hasty generalization': [84, 145]}}\n"
     ]
    }
   ],
   "source": [
    "text = data[1]['text']\n",
    "# example prediction from LLM\n",
    "pred = {\"text\": \"That leads to me believe that most cat lovers are really shy.\", \"class\": \"hasty generalization\"}\n",
    "print(calc_span(text, pred))\n",
    "print(convert_to_eval_format(text, pred))"
   ]
  }
 ],
 "metadata": {
  "kernelspec": {
   "display_name": "Project-hJMgCWV1",
   "language": "python",
   "name": "python3"
  },
  "language_info": {
   "codemirror_mode": {
    "name": "ipython",
    "version": 3
   },
   "file_extension": ".py",
   "mimetype": "text/x-python",
   "name": "python",
   "nbconvert_exporter": "python",
   "pygments_lexer": "ipython3",
   "version": "3.11.6"
  }
 },
 "nbformat": 4,
 "nbformat_minor": 2
}
