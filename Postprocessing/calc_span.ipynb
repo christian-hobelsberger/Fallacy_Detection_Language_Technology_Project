{
 "cells": [
  {
   "cell_type": "code",
   "execution_count": 136,
   "metadata": {},
   "outputs": [],
   "source": [
    "def calc_span(paragraph, sentence):\n",
    "    if isinstance(sentence, dict):\n",
    "        if sentence.__contains__('text'):\n",
    "            text = sentence.get('text') \n",
    "            if text in paragraph:\n",
    "                start = paragraph.find(text)\n",
    "                end = paragraph.find(text) + len(text)\n",
    "                return [start, end]\n",
    "            else:\n",
    "                return [0,0]\n",
    "        else:\n",
    "            return [0,0]\n",
    "    elif isinstance(sentence, str):\n",
    "        if sentence in paragraph:\n",
    "            start = paragraph.find(text)\n",
    "            end = paragraph.find(text) + len(text)\n",
    "            return [start, end]\n",
    "        else:\n",
    "            return [0,0]\n",
    "    else:\n",
    "        return [0,0]\n",
    "\n",
    "                 "
   ]
  },
  {
   "cell_type": "code",
   "execution_count": 91,
   "metadata": {},
   "outputs": [],
   "source": [
    "def convert_to_eval_format(paragraph, prediction):\n",
    "    span = calc_span(paragraph, prediction)\n",
    "    if isinstance(span, list):\n",
    "        return {paragraph: {prediction['class']: span}}\n",
    "    else:\n",
    "        return \"invalid\""
   ]
  },
  {
   "cell_type": "code",
   "execution_count": 146,
   "metadata": {},
   "outputs": [],
   "source": [
    "def convert_list_to_eval_format(paragraph, predictions):\n",
    "    span_list = []\n",
    "    for prediction in predictions:\n",
    "        span = calc_span(paragraph, prediction)\n",
    "        span_list.append({prediction['class']: span})\n",
    "    return {paragraph: span_list}"
   ]
  },
  {
   "cell_type": "code",
   "execution_count": 8,
   "metadata": {},
   "outputs": [
    {
     "name": "stdout",
     "output_type": "stream",
     "text": [
      "Requirement already satisfied: pandas in c:\\users\\abi\\appdata\\local\\programs\\python\\python311\\lib\\site-packages (2.2.2)\n",
      "Requirement already satisfied: numpy>=1.23.2 in c:\\users\\abi\\appdata\\local\\programs\\python\\python311\\lib\\site-packages (from pandas) (1.26.4)\n",
      "Requirement already satisfied: python-dateutil>=2.8.2 in c:\\users\\abi\\appdata\\roaming\\python\\python311\\site-packages (from pandas) (2.8.2)\n",
      "Requirement already satisfied: pytz>=2020.1 in c:\\users\\abi\\appdata\\local\\programs\\python\\python311\\lib\\site-packages (from pandas) (2024.1)\n",
      "Requirement already satisfied: tzdata>=2022.7 in c:\\users\\abi\\appdata\\local\\programs\\python\\python311\\lib\\site-packages (from pandas) (2024.1)\n",
      "Requirement already satisfied: six>=1.5 in c:\\users\\abi\\appdata\\roaming\\python\\python311\\site-packages (from python-dateutil>=2.8.2->pandas) (1.16.0)\n",
      "Note: you may need to restart the kernel to use updated packages.\n"
     ]
    },
    {
     "name": "stderr",
     "output_type": "stream",
     "text": [
      "\n",
      "[notice] A new release of pip is available: 23.2.1 -> 24.0\n",
      "[notice] To update, run: python.exe -m pip install --upgrade pip\n"
     ]
    }
   ],
   "source": [
    "%pip install pandas"
   ]
  },
  {
   "cell_type": "code",
   "execution_count": 33,
   "metadata": {},
   "outputs": [],
   "source": [
    "import json\n",
    "\n",
    "with open('../Data/gold_standard_dataset.jsonl', 'r') as file:\n",
    "    data = [json.loads(line) for line in file]"
   ]
  },
  {
   "cell_type": "code",
   "execution_count": 57,
   "metadata": {},
   "outputs": [
    {
     "name": "stdout",
     "output_type": "stream",
     "text": [
      "[84, 145]\n",
      "{'Two of my best friends are really introverted, shy people, and they both have cats. That leads to me believe that most cat lovers are really shy.\\n': {'hasty generalization': [84, 145]}}\n"
     ]
    }
   ],
   "source": [
    "text = data[1]['text']\n",
    "# example prediction from LLM\n",
    "pred = {\"text\": \"That leads to me believe that most cat lovers are really shy.\", \"class\": \"hasty generalization\"}\n",
    "print(calc_span(text, pred))\n",
    "print(convert_to_eval_format(text, pred))"
   ]
  },
  {
   "cell_type": "code",
   "execution_count": 148,
   "metadata": {},
   "outputs": [],
   "source": [
    "#convert csv results to eval json\n",
    "import csv\n",
    "\n",
    "# Read CSV file\n",
    "file_path = 'df_results_gemma_multiclass (3).csv'\n",
    "\n",
    "file = open(file_path, mode = 'r', newline = '', encoding='utf8')\n",
    "csv_reader = csv.reader(file, delimiter=',')\n",
    "\n",
    "#skip header\n",
    "next(csv_reader)\n",
    "# Read the rest of the rows\n",
    "data = [row for row in csv_reader]"
   ]
  },
  {
   "cell_type": "markdown",
   "metadata": {},
   "source": [
    "### Multi-label"
   ]
  },
  {
   "cell_type": "code",
   "execution_count": 152,
   "metadata": {},
   "outputs": [],
   "source": [
    "import json\n",
    "\n",
    "input = [row[1] for row in data]\n",
    "predictions = [json.loads(row[3]) for row in data]\n",
    "eval_data = []\n",
    "for n, paragraph in enumerate(input):\n",
    "    eval_data.append(convert_list_to_eval_format(paragraph, predictions[n]))"
   ]
  },
  {
   "cell_type": "markdown",
   "metadata": {},
   "source": [
    "### Multi-class"
   ]
  },
  {
   "cell_type": "code",
   "execution_count": 171,
   "metadata": {},
   "outputs": [],
   "source": [
    "input = [row[1] for row in data]\n",
    "predictions = [json.loads(row[3]) for row in data]\n",
    "eval_data = []\n",
    "for n, paragraph in enumerate(input):\n",
    "    prediction = predictions[n]\n",
    "    if prediction:\n",
    "        eval_data.append({paragraph: prediction[0]})\n",
    "    else:\n",
    "        eval_data.append({paragraph: 0})\n"
   ]
  },
  {
   "cell_type": "markdown",
   "metadata": {},
   "source": [
    "### Write to file"
   ]
  },
  {
   "cell_type": "code",
   "execution_count": 175,
   "metadata": {},
   "outputs": [],
   "source": [
    "file_name = file_path.replace('.csv', '.json')\n",
    "with open(f'../Data/formatted_results/eval_{file_name}', 'w') as out:\n",
    "    json.dump(eval_data , out)"
   ]
  }
 ],
 "metadata": {
  "kernelspec": {
   "display_name": "Project-hJMgCWV1",
   "language": "python",
   "name": "python3"
  },
  "language_info": {
   "codemirror_mode": {
    "name": "ipython",
    "version": 3
   },
   "file_extension": ".py",
   "mimetype": "text/x-python",
   "name": "python",
   "nbconvert_exporter": "python",
   "pygments_lexer": "ipython3",
   "version": "3.11.6"
  }
 },
 "nbformat": 4,
 "nbformat_minor": 2
}
