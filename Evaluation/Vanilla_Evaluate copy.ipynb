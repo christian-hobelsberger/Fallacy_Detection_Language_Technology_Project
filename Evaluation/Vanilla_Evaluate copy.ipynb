{
  "cells": [
    {
      "cell_type": "markdown",
      "metadata": {
        "id": "KxRqWYiBuiW8"
      },
      "source": [
        "Vanilla evaluation for a single label classification. If the predicted label matches any of the target labels, it's assumed to be the correct prediction."
      ]
    },
    {
      "cell_type": "code",
      "execution_count": 2,
      "metadata": {
        "id": "2ZesLq1AxaIy"
      },
      "outputs": [],
      "source": [
        "import json\n",
        "from typing import List, Tuple"
      ]
    },
    {
      "cell_type": "code",
      "execution_count": 3,
      "metadata": {
        "id": "d2vPct72xoFQ"
      },
      "outputs": [],
      "source": [
        "LABEL_MAP = {'abusive ad hominem':1,\n",
        "             'ad populum':2,\n",
        "             'appeal to false authority':3,\n",
        "             'appeal to nature':4,\n",
        "             'appeal to tradition':5,\n",
        "             'guilt by association':6,\n",
        "             'tu quoque':7,\n",
        "             'causal oversimplification':8,\n",
        "             'circular reasoning':9,\n",
        "             'equivocation':10,\n",
        "             'false analogy':11,\n",
        "             'false causality':12,\n",
        "             'false dilemma':13,\n",
        "             'hasty generalization':14,\n",
        "             'slippery slope':15,\n",
        "             'straw man':16,\n",
        "             'fallacy of division':17,\n",
        "             'appeal to positive emotion':18,\n",
        "             'appeal to anger':19,\n",
        "             'appeal to fear':20,\n",
        "             'appeal to pity':21,\n",
        "             'appeal to ridicule':22,\n",
        "             'appeal to worse problem':23}"
      ]
    },
    {
      "cell_type": "code",
      "execution_count": 4,
      "metadata": {
        "id": "VOdTuKh1xcmU"
      },
      "outputs": [],
      "source": [
        "def extract_fallacies(json_predictions_path: str,\n",
        "                      json_golds_path: str):\n",
        "\n",
        "    with open(json_predictions_path, 'r') as file:\n",
        "        predictions = json.loads(j.read())\n",
        "\n",
        "    predicted_fallacies = []\n",
        "\n",
        "    for d in predictions:\n",
        "        if len(d) != 0:\n",
        "            pred = list(d[0].values())[1]\n",
        "            if pred.lower() in LABEL_MAP:\n",
        "                predicted_fallacies.append(LABEL_MAP[pred.lower()])\n",
        "            else:\n",
        "                predicted_fallacies.append(0)\n",
        "        else:\n",
        "            predicted_fallacies.append(0)\n",
        "\n",
        "    with open(json_golds_path, 'r') as j:\n",
        "        golds = json.loads(j.read())\n",
        "\n",
        "    gold_fallacies = []\n",
        "\n",
        "    for d in golds:\n",
        "        if len(list(d.values())[0]) != 0:\n",
        "            one_sample_fallacies = []\n",
        "            for f in list(d.values())[0]:\n",
        "                pred = list(f.keys())[0]\n",
        "                if pred.lower() in LABEL_MAP:\n",
        "                    one_sample_fallacies.append(LABEL_MAP[pred.lower()])\n",
        "                else:\n",
        "                    one_sample_fallacies.append(0)\n",
        "            gold_fallacies.append(one_sample_fallacies)\n",
        "        else:\n",
        "            gold_fallacies.append([0])\n",
        "\n",
        "    return predicted_fallacies, gold_fallacies"
      ]
    },
    {
      "cell_type": "code",
      "execution_count": 5,
      "metadata": {
        "id": "5ivK3rei1f7p"
      },
      "outputs": [],
      "source": [
        "def calculate_precision_recall_f1(predictions: List[int], golden_labels: List[List[int]]):\n",
        "\n",
        "    if len(predictions) != len(golden_labels):\n",
        "        return \"predictions and golden labels are not of the same length\"\n",
        "\n",
        "    TP, FP, FN = 0, 0, 0\n",
        "\n",
        "    for pred, gold in zip(predictions, golden_labels):\n",
        "        if pred in gold:\n",
        "            TP += 1\n",
        "        else:\n",
        "            FP += 1\n",
        "            FN += len(gold)\n",
        "\n",
        "    precision = TP / (TP + FP) if (TP + FP) > 0 else 0.0\n",
        "    recall = TP / (TP + FN) if (TP + FN) > 0 else 0.0\n",
        "    f1_score = (2 * precision * recall) / (precision + recall) if (precision + recall) > 0 else 0.0\n",
        "\n",
        "    print(f\"Precision: {precision:.4f}\")\n",
        "    print(f\"Recall: {recall:.4f}\")\n",
        "    print(f\"F1-score: {f1_score:.4f}\")"
      ]
    },
    {
      "cell_type": "markdown",
      "metadata": {
        "id": "QMRymJkKw1Mv"
      },
      "source": [
        "## Run the evaluation\n",
        "\n",
        "Example structure of example_preds.json file:\n",
        "\n",
        "\n",
        "```\n",
        "[\n",
        "    {\"TITLE: There is a difference between a'smurf' and an'alt'. Please learn it and stop using them interchangeably. POST: Someone once told me they have an 'alt' cause their main account was too high of rank to play with their friends. It's exactly the same as smurfing.\":[{\"false analogy\": [0,12]},{\"Appeal TO Fear\":[12,29]}]},\n",
        "    {\"America is the best place to live, because it's better than any other country.\": [{\"circular reasoning\": [0,78]}]}\n",
        "]\n",
        "```\n",
        "\n",
        "Example structure of example_golds.json file:\n",
        "\n",
        "\n",
        "```\n",
        "[\n",
        "    {\"TITLE: There is a difference between a'smurf' and an'alt'. Please learn it and stop using them interchangeably. POST: Someone once told me they have an 'alt' cause their main account was too high of rank to play with their friends. It's exactly the same as smurfing.\":[{\"appeal to fear\":[12,29]}]},\n",
        "    {\"America is the best place to live, because it's better than any other country.\": [{\"Circular Reasoning\": [0,78]}]}\n",
        "]\n",
        "```\n",
        "\n"
      ]
    },
    {
      "cell_type": "code",
      "execution_count": 6,
      "metadata": {
        "id": "Ws6cMITx2MRK"
      },
      "outputs": [
        {
          "ename": "JSONDecodeError",
          "evalue": "Expecting value: line 2 column 1 (char 2)",
          "output_type": "error",
          "traceback": [
            "\u001b[1;31m---------------------------------------------------------------------------\u001b[0m",
            "\u001b[1;31mJSONDecodeError\u001b[0m                           Traceback (most recent call last)",
            "Cell \u001b[1;32mIn[6], line 1\u001b[0m\n\u001b[1;32m----> 1\u001b[0m predicted_fallacies, gold_fallacies \u001b[38;5;241m=\u001b[39m \u001b[43mextract_fallacies\u001b[49m\u001b[43m(\u001b[49m\u001b[38;5;124;43m'\u001b[39;49m\u001b[38;5;124;43m../Data/formatted_results/mc_eval_df_results_gemma_multiclass (3).json\u001b[39;49m\u001b[38;5;124;43m'\u001b[39;49m\u001b[43m,\u001b[49m\u001b[43m \u001b[49m\u001b[38;5;124;43m'\u001b[39;49m\u001b[38;5;124;43m../Data/golden_dataset.json\u001b[39;49m\u001b[38;5;124;43m'\u001b[39;49m\u001b[43m)\u001b[49m\n",
            "Cell \u001b[1;32mIn[4], line 5\u001b[0m, in \u001b[0;36mextract_fallacies\u001b[1;34m(json_predictions_path, json_golds_path)\u001b[0m\n\u001b[0;32m      1\u001b[0m \u001b[38;5;28;01mdef\u001b[39;00m \u001b[38;5;21mextract_fallacies\u001b[39m(json_predictions_path: \u001b[38;5;28mstr\u001b[39m,\n\u001b[0;32m      2\u001b[0m                       json_golds_path: \u001b[38;5;28mstr\u001b[39m):\n\u001b[0;32m      4\u001b[0m     \u001b[38;5;28;01mwith\u001b[39;00m \u001b[38;5;28mopen\u001b[39m(json_predictions_path, \u001b[38;5;124m'\u001b[39m\u001b[38;5;124mr\u001b[39m\u001b[38;5;124m'\u001b[39m) \u001b[38;5;28;01mas\u001b[39;00m file:\n\u001b[1;32m----> 5\u001b[0m         predictions \u001b[38;5;241m=\u001b[39m \u001b[43m[\u001b[49m\u001b[43mjson\u001b[49m\u001b[38;5;241;43m.\u001b[39;49m\u001b[43mloads\u001b[49m\u001b[43m(\u001b[49m\u001b[43mline\u001b[49m\u001b[43m)\u001b[49m\u001b[43m \u001b[49m\u001b[38;5;28;43;01mfor\u001b[39;49;00m\u001b[43m \u001b[49m\u001b[43mline\u001b[49m\u001b[43m \u001b[49m\u001b[38;5;129;43;01min\u001b[39;49;00m\u001b[43m \u001b[49m\u001b[43mfile\u001b[49m\u001b[43m]\u001b[49m\n\u001b[0;32m      7\u001b[0m     predicted_fallacies \u001b[38;5;241m=\u001b[39m []\n\u001b[0;32m      9\u001b[0m     \u001b[38;5;28;01mfor\u001b[39;00m d \u001b[38;5;129;01min\u001b[39;00m predictions:\n",
            "Cell \u001b[1;32mIn[4], line 5\u001b[0m, in \u001b[0;36m<listcomp>\u001b[1;34m(.0)\u001b[0m\n\u001b[0;32m      1\u001b[0m \u001b[38;5;28;01mdef\u001b[39;00m \u001b[38;5;21mextract_fallacies\u001b[39m(json_predictions_path: \u001b[38;5;28mstr\u001b[39m,\n\u001b[0;32m      2\u001b[0m                       json_golds_path: \u001b[38;5;28mstr\u001b[39m):\n\u001b[0;32m      4\u001b[0m     \u001b[38;5;28;01mwith\u001b[39;00m \u001b[38;5;28mopen\u001b[39m(json_predictions_path, \u001b[38;5;124m'\u001b[39m\u001b[38;5;124mr\u001b[39m\u001b[38;5;124m'\u001b[39m) \u001b[38;5;28;01mas\u001b[39;00m file:\n\u001b[1;32m----> 5\u001b[0m         predictions \u001b[38;5;241m=\u001b[39m [\u001b[43mjson\u001b[49m\u001b[38;5;241;43m.\u001b[39;49m\u001b[43mloads\u001b[49m\u001b[43m(\u001b[49m\u001b[43mline\u001b[49m\u001b[43m)\u001b[49m \u001b[38;5;28;01mfor\u001b[39;00m line \u001b[38;5;129;01min\u001b[39;00m file]\n\u001b[0;32m      7\u001b[0m     predicted_fallacies \u001b[38;5;241m=\u001b[39m []\n\u001b[0;32m      9\u001b[0m     \u001b[38;5;28;01mfor\u001b[39;00m d \u001b[38;5;129;01min\u001b[39;00m predictions:\n",
            "File \u001b[1;32mc:\\Users\\Abi\\AppData\\Local\\Programs\\Python\\Python311\\Lib\\json\\__init__.py:346\u001b[0m, in \u001b[0;36mloads\u001b[1;34m(s, cls, object_hook, parse_float, parse_int, parse_constant, object_pairs_hook, **kw)\u001b[0m\n\u001b[0;32m    341\u001b[0m     s \u001b[38;5;241m=\u001b[39m s\u001b[38;5;241m.\u001b[39mdecode(detect_encoding(s), \u001b[38;5;124m'\u001b[39m\u001b[38;5;124msurrogatepass\u001b[39m\u001b[38;5;124m'\u001b[39m)\n\u001b[0;32m    343\u001b[0m \u001b[38;5;28;01mif\u001b[39;00m (\u001b[38;5;28mcls\u001b[39m \u001b[38;5;129;01mis\u001b[39;00m \u001b[38;5;28;01mNone\u001b[39;00m \u001b[38;5;129;01mand\u001b[39;00m object_hook \u001b[38;5;129;01mis\u001b[39;00m \u001b[38;5;28;01mNone\u001b[39;00m \u001b[38;5;129;01mand\u001b[39;00m\n\u001b[0;32m    344\u001b[0m         parse_int \u001b[38;5;129;01mis\u001b[39;00m \u001b[38;5;28;01mNone\u001b[39;00m \u001b[38;5;129;01mand\u001b[39;00m parse_float \u001b[38;5;129;01mis\u001b[39;00m \u001b[38;5;28;01mNone\u001b[39;00m \u001b[38;5;129;01mand\u001b[39;00m\n\u001b[0;32m    345\u001b[0m         parse_constant \u001b[38;5;129;01mis\u001b[39;00m \u001b[38;5;28;01mNone\u001b[39;00m \u001b[38;5;129;01mand\u001b[39;00m object_pairs_hook \u001b[38;5;129;01mis\u001b[39;00m \u001b[38;5;28;01mNone\u001b[39;00m \u001b[38;5;129;01mand\u001b[39;00m \u001b[38;5;129;01mnot\u001b[39;00m kw):\n\u001b[1;32m--> 346\u001b[0m     \u001b[38;5;28;01mreturn\u001b[39;00m \u001b[43m_default_decoder\u001b[49m\u001b[38;5;241;43m.\u001b[39;49m\u001b[43mdecode\u001b[49m\u001b[43m(\u001b[49m\u001b[43ms\u001b[49m\u001b[43m)\u001b[49m\n\u001b[0;32m    347\u001b[0m \u001b[38;5;28;01mif\u001b[39;00m \u001b[38;5;28mcls\u001b[39m \u001b[38;5;129;01mis\u001b[39;00m \u001b[38;5;28;01mNone\u001b[39;00m:\n\u001b[0;32m    348\u001b[0m     \u001b[38;5;28mcls\u001b[39m \u001b[38;5;241m=\u001b[39m JSONDecoder\n",
            "File \u001b[1;32mc:\\Users\\Abi\\AppData\\Local\\Programs\\Python\\Python311\\Lib\\json\\decoder.py:337\u001b[0m, in \u001b[0;36mJSONDecoder.decode\u001b[1;34m(self, s, _w)\u001b[0m\n\u001b[0;32m    332\u001b[0m \u001b[38;5;28;01mdef\u001b[39;00m \u001b[38;5;21mdecode\u001b[39m(\u001b[38;5;28mself\u001b[39m, s, _w\u001b[38;5;241m=\u001b[39mWHITESPACE\u001b[38;5;241m.\u001b[39mmatch):\n\u001b[0;32m    333\u001b[0m \u001b[38;5;250m    \u001b[39m\u001b[38;5;124;03m\"\"\"Return the Python representation of ``s`` (a ``str`` instance\u001b[39;00m\n\u001b[0;32m    334\u001b[0m \u001b[38;5;124;03m    containing a JSON document).\u001b[39;00m\n\u001b[0;32m    335\u001b[0m \n\u001b[0;32m    336\u001b[0m \u001b[38;5;124;03m    \"\"\"\u001b[39;00m\n\u001b[1;32m--> 337\u001b[0m     obj, end \u001b[38;5;241m=\u001b[39m \u001b[38;5;28;43mself\u001b[39;49m\u001b[38;5;241;43m.\u001b[39;49m\u001b[43mraw_decode\u001b[49m\u001b[43m(\u001b[49m\u001b[43ms\u001b[49m\u001b[43m,\u001b[49m\u001b[43m \u001b[49m\u001b[43midx\u001b[49m\u001b[38;5;241;43m=\u001b[39;49m\u001b[43m_w\u001b[49m\u001b[43m(\u001b[49m\u001b[43ms\u001b[49m\u001b[43m,\u001b[49m\u001b[43m \u001b[49m\u001b[38;5;241;43m0\u001b[39;49m\u001b[43m)\u001b[49m\u001b[38;5;241;43m.\u001b[39;49m\u001b[43mend\u001b[49m\u001b[43m(\u001b[49m\u001b[43m)\u001b[49m\u001b[43m)\u001b[49m\n\u001b[0;32m    338\u001b[0m     end \u001b[38;5;241m=\u001b[39m _w(s, end)\u001b[38;5;241m.\u001b[39mend()\n\u001b[0;32m    339\u001b[0m     \u001b[38;5;28;01mif\u001b[39;00m end \u001b[38;5;241m!=\u001b[39m \u001b[38;5;28mlen\u001b[39m(s):\n",
            "File \u001b[1;32mc:\\Users\\Abi\\AppData\\Local\\Programs\\Python\\Python311\\Lib\\json\\decoder.py:355\u001b[0m, in \u001b[0;36mJSONDecoder.raw_decode\u001b[1;34m(self, s, idx)\u001b[0m\n\u001b[0;32m    353\u001b[0m     obj, end \u001b[38;5;241m=\u001b[39m \u001b[38;5;28mself\u001b[39m\u001b[38;5;241m.\u001b[39mscan_once(s, idx)\n\u001b[0;32m    354\u001b[0m \u001b[38;5;28;01mexcept\u001b[39;00m \u001b[38;5;167;01mStopIteration\u001b[39;00m \u001b[38;5;28;01mas\u001b[39;00m err:\n\u001b[1;32m--> 355\u001b[0m     \u001b[38;5;28;01mraise\u001b[39;00m JSONDecodeError(\u001b[38;5;124m\"\u001b[39m\u001b[38;5;124mExpecting value\u001b[39m\u001b[38;5;124m\"\u001b[39m, s, err\u001b[38;5;241m.\u001b[39mvalue) \u001b[38;5;28;01mfrom\u001b[39;00m \u001b[38;5;28;01mNone\u001b[39;00m\n\u001b[0;32m    356\u001b[0m \u001b[38;5;28;01mreturn\u001b[39;00m obj, end\n",
            "\u001b[1;31mJSONDecodeError\u001b[0m: Expecting value: line 2 column 1 (char 2)"
          ]
        }
      ],
      "source": [
        "predicted_fallacies, gold_fallacies = extract_fallacies('../Data/formatted_results/mc_eval_df_results_gemma_multiclass (3).json', '../Data/golden_dataset.json')"
      ]
    },
    {
      "cell_type": "code",
      "execution_count": null,
      "metadata": {
        "colab": {
          "base_uri": "https://localhost:8080/"
        },
        "id": "29YA3c6l3Iks",
        "outputId": "029b7eb7-51f6-4bb8-f8e5-3bf30f4f8209"
      },
      "outputs": [
        {
          "name": "stdout",
          "output_type": "stream",
          "text": [
            "Precision: 0.4750\n",
            "Recall: 0.3480\n",
            "F1-score: 0.4017\n"
          ]
        }
      ],
      "source": [
        "calculate_precision_recall_f1(predicted_fallacies, gold_fallacies)"
      ]
    }
  ],
  "metadata": {
    "colab": {
      "provenance": []
    },
    "kernelspec": {
      "display_name": "Python 3",
      "name": "python3"
    },
    "language_info": {
      "codemirror_mode": {
        "name": "ipython",
        "version": 3
      },
      "file_extension": ".py",
      "mimetype": "text/x-python",
      "name": "python",
      "nbconvert_exporter": "python",
      "pygments_lexer": "ipython3",
      "version": "3.11.6"
    }
  },
  "nbformat": 4,
  "nbformat_minor": 0
}
