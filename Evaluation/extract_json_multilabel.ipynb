{
 "cells": [
  {
   "cell_type": "code",
   "execution_count": 1,
   "id": "3c70e54b-dafe-4cb8-be40-42e4559e8c0e",
   "metadata": {},
   "outputs": [],
   "source": [
    "# Imports\n",
    "import pandas as pd\n",
    "import json\n",
    "import re"
   ]
  },
  {
   "cell_type": "code",
   "execution_count": 23,
   "id": "b0081784-ad79-4572-b3ae-a8153ab51ec7",
   "metadata": {},
   "outputs": [],
   "source": [
    "# Read file\n",
    "input_filename = 'df_results_mistral_multilabel.csv'\n",
    "df = pd.read_csv(input_filename)"
   ]
  },
  {
   "cell_type": "code",
   "execution_count": 24,
   "id": "dba5206f-b7a8-4e86-80c7-0fc3730d5fb0",
   "metadata": {},
   "outputs": [
    {
     "data": {
      "text/plain": [
       "' [{\"text\": \"I\\'ll correct you lol because I don\\'t want it to look spiteful and NPHC\\'s demeanor towards Greek life is a little different... TL;DR: rushed and rejected from one sorority, didn\\'t like how the chapter handles themselves as a whole, should I rush another sorority that may align with my views better even if they are \\'rivals\\'.\", \"class\": \"hasty generalization\"}]\\n\\nExplanation: The author is making a hasty generalization about NPHC\\'s demeanor towards Greek life based on her experience with one sorority. It is not fair to judge an entire organization or group based on the actions of a single chapter.'"
      ]
     },
     "execution_count": 24,
     "metadata": {},
     "output_type": "execute_result"
    }
   ],
   "source": [
    "df[\"model_output\"][165]"
   ]
  },
  {
   "cell_type": "code",
   "execution_count": 4,
   "id": "e1a91804-90dc-43b7-b03b-36caeab4d0ea",
   "metadata": {},
   "outputs": [
    {
     "name": "stdout",
     "output_type": "stream",
     "text": [
      "Error decoding JSON: Expecting ',' delimiter: line 1 column 472 (char 471) in string: [{\"text\": \"These are unidentified people, and after the bomb goes off, they're blown to bits because they are suicidal individuals who think they're going to go to paradise if they perpetrate such an act and lose their life in doing it.\", \"class\": \"Ad hominem\"}, {\"text\": \"We're busy trying to find the centers where these operations stem from, and retaliation will be taken.\", \"class\": \"Appeal to fear\"}, {\"text\": \"But we're not going to simply kill some people to say,\"Oh, look, we got even.''\", \"class\": \"Appeal to pity\"}, {\"text\": \"Every time I bring my umbrella with me, it rains. Clearly, if I leave it at home, there will be sunshine!\", \"class\": \"False causality\"}, {\"text\": \"I water the garden every day, which is why it grows so well.\", \"class\": \"Causal oversimplification\"}, {\"text\": \"My favorite actor, who starred in that movie about a virus that turns people into zombies, said in an interview that genetically modified crops caused COVID-19. So I think that’s what really happened.\", \"class\": \"Appeal to false authority\"}, {\"text\": \"Herbal medicine is natural, so it's good for you.\", \"class\": \"Appeal to nature\"}, {\"text\": \"Premise 1: Annoying co-workers are a headache. Premise 2: Painkillers can help you get rid of a headache. Conclusion: Painkillers can help you get rid of annoying co-workers.\", \"class\": \"Equivocation\"}, {\"text\": \"Are you tired of being ignored by your government?  Is it right that the top 1% have so much when the rest of us have so little?  I urge you to vote for me today!\", \"class\": \"Appeal to anger\"}, {\"text\": \"Either P or Q is true. Q is frightening. Therefore, P is true.\", \"class\": \"False dilemma\"}, {\"text\": \"You must have graded my exam incorrectly. I studied very hard for weeks specifically because I knew my career depended on getting a good grade. If you give me a failing grade I'm ruined!\", \"class\": \"Appeal to tradition\"}, {\"text\": \"You used to do that when you were my age\", \"class\": \"Tu quoque\"} ]\n",
      "Error decoding JSON: Expecting ',' delimiter: line 1 column 77 (char 76) in string: [{\"text\": \"If you give the government *any* control over what is considered\"hate speech\", \"class\": \"Slippery slope\"}, {\"text\": \"Saying\"hateful\" things about Islam becomes illegal\", \"class\": \"Slippery slope\"}, {\"text\": \"If I water the garden every day, which is why it grows so well.\", \"class\": \"Causal oversimplification\"}, {\"text\": \"Everyone should wear seatbelts. We should also wear bibs and sleep in a bassinet.\", \"class\": \"Appeal to worse problems\"}, {\"text\": \"My favorite actor, who starred in that movie about a virus that turns people into zombies, said in an interview that genetically modified crops caused COVID-19. So I think that’s what really happened\", \"class\": \"Appeal to false authority\"}, {\"text\": \"Your sibling is trying to convince you to let them eat the last piece of dessert: “Can I have the last piece of cake? You know how much I love it, and it's been a tough day for me. I've had such a bad day, and this cake would just make me feel so much better.”\", \"class\": \"Appeal to positive emotion\"}, {\"text\": \"Herbal medicine is natural, so it's good for you.\", \"class\": \"Appeal to nature\"}, {\"text\": \"Premise 1: Annoying co-workers are a headache. Premise 2: Painkillers can help you get rid of a headache. Conclusion: Painkillers can help you get rid of annoying co-workers.\", \"class\": \"Equivocation\"}, {\"text\": \"Are you tired of being ignored by your government?  Is it right that the top 1% have so much when the rest of us have so little?  I urge you to vote for me today!\", \"class\": \"Appeal to anger\"}, {\"text\": \"Either you support this new legislation to give the police more power, or you want society to descend into chaos!\", \"class\": \"False dilemma\"}, {\"text\": \"You must have graded my exam incorrectly. I studied very hard for weeks specifically because I knew my career depended on getting a good grade. If you give me a failing grade I'm ruined!\", \"class\": \"Appeal to pity\"}, {\"text\": \"You used to do that when you were my age\", \"class\": \"Tu quoque\"} ]\n",
      "Error decoding JSON: Expecting ',' delimiter: line 1 column 356 (char 355) in string: [{\"text\": \"We're treading water. We have families that are hurting. We have people who are unemployed. We have people with no property. We have an administration that is demolishing public housing in our inner cities and not providing anything else but more public housing. Their solution to the inner city is more -- excuse the expression but it’s true,\"socialism\"}, {\"text\": \"If I water the garden every day, which is why it grows so well.\", \"class\": \"Causal oversimplification\"}, {\"text\": \"My favorite actor, who starred in that movie about a virus that turns people into zombies, said in an interview that genetically modified crops caused COVID-19. So I think that’s what really happened\", \"class\": \"Appeal to false authority\"}, {\"text\": \"You must have graded my exam incorrectly. I studied very hard for weeks specifically because I knew my career depended on getting a good grade. If you give me a failing grade I'm ruined!\", \"class\": \"Appeal to pity\"}, {\"text\": \"You used to do that when you were my age\", \"class\": \"Tu quoque\"}]\n",
      "Error decoding JSON: Expecting ',' delimiter: line 1 column 235 (char 234) in string: [{\"text\": \"I have been in charge of this reinventing government streamlining project that’s reduced the size of government by more than 300,000 people in the last several years. And the budget plan that I’ve put out, according to the\"Los Angeles Times\" again, the way these things are typically measured as a percentage of the GDP, will bring government spending down to the lowest level in 50 years.\", \"class\": \"None\"}, {\"text\": \"Therefore, I want to proceed carefully to cover more people.\", \"class\": \"None\"}, {\"text\": \"Every time I bring my umbrella with me, it rains. Clearly, if I leave it at home, there will be sunshine!\", \"class\": \"False Causality\"}, {\"text\": \"My favorite actor, who starred in that movie about a virus that turns people into zombies, said in an interview that genetically modified crops caused COVID-19. So I think that’s what really happened\", \"class\": \"Appeal to False Authority\"}, {\"text\": \"You must have graded my exam incorrectly. I studied very hard for weeks specifically because I knew my career depended on getting a good grade. If you give me a failing grade I’m ruined!\", \"class\": \"Appeal to Pity\"}, {\"text\": \"You used to do that when you were my age\", \"class\": \"Tu quoque\"}]\n",
      "Error decoding JSON: Expecting ',' delimiter: line 1 column 284 (char 283) in string: [{\"text\": \"I recently got a $100k+ job without a college degree, before my 30th birthday. I did it because I worked my ass off and learned a skill in the military. It’s not that hard you just got to do the best you can.\", \"class\": \"Ad hominem\"}, {\"text\": \"It’s time to go to bed.”, \"class\": \"Circular reasoning\"}, {\"text\": \"Everyone should wear seatbelts. We should also wear bibs and sleep in a bassinet.\", \"class\": \"Appeal to worse problems\"}, {\"text\": \"My favorite actor, who starred in that movie about a virus that turns people into zombies, said in an interview that genetically modified crops caused COVID-19. So I think that’s what really happened\", \"class\": \"Appeal to false authority\"}, {\"text\": \"Your sibling is trying to convince you to let them eat the last piece of the dessert: “Can I have the last piece of cake? You know how much I love it, and it's been a tough day for me. I’ve had such a bad day, and this cake would just make me feel so much better.”, \"class\": \"Appeal to positive emotion\"}, {\"text\": \"Herbal medicine is natural, so it’s good for you.\", \"class\": \"Appeal to nature\"}, {\"text\": \"Premise 1: Annoying co-workers are a headache. Premise 2: Painkillers can help you get rid of a headache. Conclusion: Painkillers can help you get rid of annoying co-workers.\", \"class\": \"Equivocation\"}, {\"text\": \"Are you tired of being ignored by your government?  Is it right that the top 1% have so much when the rest of us have so little?  I urge you to vote for me today!\", \"class\": \"Appeal to anger\"}, {\"text\": \"Either you support this new legislation to give the police more power, or you want society to descend into chaos!\", \"class\": \"False dilemma\"}, {\"text\": \"You must have graded my exam incorrectly. I studied very hard for weeks specifically because I knew my career depended on getting a good grade. If you give me a failing grade I’m ruined!\", \"class\": \"Appeal to pity\"}, {\"text\": \"You used to do that when you were my age\", \"class\": \"Tu quoque\"}]\n",
      "Error decoding JSON: Expecting ',' delimiter: line 1 column 23 (char 22) in string: [{\"text\": \"The use of\"extremely\" and\"very\" is hyperbolical bullshit. You know it and I know it. Please stop.\", \"class\": \"Ad hominem\"}, {\"text\": \"Being tribal is a normal part of being human.\", \"class\": \"Appeal to tradition\"}, {\"text\": \"Every time I bring my umbrella with me, it rains. Clearly, if I leave it at home, there will be sunshine!\", \"class\": \"False causality\"}, {\"text\": \"My favorite actor, who starred in that movie about a virus that turns people into zombies, said in an interview that genetically modified crops caused COVID-19. So I think that’s what really happened.\", \"class\": \"Appeal to false authority\"}, {\"text\": \"You must have graded my exam incorrectly. I studied very hard for weeks specifically because I knew my career depended on getting a good grade. If you give me a failing grade I'm ruined!\", \"class\": \"Appeal to pity\"}, {\"text\": \"You used to do that when you were my age\", \"class\": \"Tu quoque\"}]\n",
      "Error decoding JSON: Unterminated string starting at: line 1 column 673 (char 672) in string: [{\"text\": \"Porn has gained the support of popular culture, but it is unhealthy. It has been shown to make men more sexually aggressive, dissatisfied with their own sex lives, and contributes to the global sex trade.\", \"class\": \"Ad hominem\"}, {\"text\": \"Viewing porn also causes prolonged dopamine exposure, which the brain will build resistance against - making it more difficult to feel joy from other daily activities.\", \"class\": \"Appeal to fear\"}, {\"text\": \"Porn is also highly addictive, and has diminishing returns over time, so a user will have to watch more porn, or more extreme porn, to get the same amount of dopamine.\", \"class\": \"Appeal to tradition\"}, {\"text\": \"Check [fightthenewdrug.org]\n",
      "Error decoding JSON: Unterminated string starting at: line 1 column 11 (char 10) in string: [{\"text\": \"Please actually look at the divorce/marriages statistics first:[Here’s more statistics on Divorce!]\n",
      "Error decoding JSON: Expecting value: line 1 column 2 (char 1) in string: [Domestic Violence]\n",
      "Error decoding JSON: Invalid control character at: line 1 column 111 (char 110) in string: [{\"text\": \"Let's think step by step by going through the sentences and checking them for every single fallacy:\n",
      "\n",
      "It's not circular at all because NTT doesn't revolve around proving human moral value.\", \"class\": \"Circular/tautological reasoning\"},\n",
      "\n",
      "{\"text\": \"Every time I bring my umbrella with me, it rains. Clearly, if I leave it at home, there will be sunshine!\", \"class\": \"False causality\"},\n",
      "\n",
      "{\"text\": \"You must have graded my exam incorrectly. I studied very hard for weeks specifically because I knew my career depended on getting a good grade. If you give me a failing grade I'm ruined!\", \"class\": \"Appeal to pity\"},\n",
      "\n",
      "{\"text\": \"My favorite actor, who starred in that movie about a virus that turns people into zombies, said in an interview that genetically modified crops caused COVID-19. So I think that’s what really happened\", \"class\": \"Appeal to false authority\"},\n",
      "\n",
      "{\"text\": \"Herbal medicine is natural, so it's good for you.\", \"class\": \"Appeal to nature\"},\n",
      "\n",
      "{\"text\": \"Premise 1: Annoying co-workers are a headache. Premise 2: Painkillers can help you get rid of a headache. Conclusion: Painkillers can help you get rid of annoying co-workers.\", \"class\": \"Equivocation\"} ]\n",
      "Error decoding JSON: Expecting ',' delimiter: line 1 column 118 (char 117) in string: [{\"text\": \"Awesome! Now make it say boobs. / Buffer overflow (The Russian word (*bufyer* or *boofer*) can mean both \"buffer\" and \"boob\"; the connection is via railroad buffers, the twin shock absorbers used to dampen the impact of a train car hitting a stop.)\", \"class\": \"Appeal to emotion\"}, {\"text\": \"Every time I bring my umbrella with me, it rains. Clearly, if I leave it at home, there will be sunshine!\", \"class\": \"False causality\"}, {\"text\": \"You must have graded my exam incorrectly. I studied very hard for weeks specifically because I knew my career depended on getting a good grade. If you give me a failing grade I'm ruined!\", \"class\": \"Appeal to pity\"}, {\"text\": \"This medicine has been used by people since ancient history, therefore it must be an effective way to treat diseases.\", \"class\": \"Appeal to tradition\"}, {\"text\": \"My favorite actor, who starred in that movie about a virus that turns people into zombies, said in an interview that genetically modified crops caused COVID-19. So I think that’s what really happened\", \"class\": \"Appeal to false authority\"}, {\"text\": \"I think we should increase benefits for unemployed single mothers during the first year after childbirth because they need sufficient money to provide medical care for their children.\", \"class\": \"Straw man\"}, {\"text\": \"Either P or Q is true. Q is frightening. Therefore, P is true.\", \"class\": \"False dilemma\"}, {\"text\": \"Herbal medicine is natural, so it's good for you.\", \"class\": \"Appeal to nature\"}, {\"text\": \"Premise 1: Annoying co-workers are a headache. Premise 2: Painkillers can help you get rid of a headache. Conclusion: Painkillers can help you get rid of annoying co-workers.\", \"class\": \"Equivocation\"}, {\"text\": \"Are you tired of being ignored by your government?  Is it right that the top 1% have so much when the rest of us have so little?  I urge you to vote for me today!\", \"class\": \"Appeal to anger\"}, {\"text\": \"You used to do that when you were my age\", \"class\": \"Tu quoque\"]\n",
      "Error decoding JSON: Unterminated string starting at: line 1 column 144 (char 143) in string: [{\"text\": \"Not by definition. Humans move themselves; there is no outside entity facilitating their spread.\", \"class\": \"Ad Populum\"}, {\"text\": \"If we observe the increase level of [world population]\n",
      "Error decoding JSON: Expecting value: line 1 column 2 (char 1) in string: [Google Maps]\n",
      "Error decoding JSON: Expecting value: line 1 column 2 (char 1) in string: [urban areas]\n"
     ]
    }
   ],
   "source": [
    "def extract_json_string(model_output):\n",
    "    \"\"\"\n",
    "    Extracts valid JSON strings from the text within square brackets [].\n",
    "    Only includes JSON objects that have a non-empty 'class' field.\n",
    "    \"\"\"\n",
    "    try:\n",
    "        # Find all substrings within square brackets\n",
    "        json_strings = re.findall(r'\\[.*?\\]', model_output, re.DOTALL)\n",
    "        \n",
    "        valid_json_objects = []\n",
    "        \n",
    "        for json_str in json_strings:\n",
    "            try:\n",
    "                # Clean the JSON string to ensure it's in valid JSON format\n",
    "                json_str = json_str.replace('\\\\\"', '\\\"').replace(\"\\\\'\", \"'\")\n",
    "                json_objects = json.loads(json_str)\n",
    "                \n",
    "                for obj in json_objects:\n",
    "                    if obj.get(\"class\"):\n",
    "                        valid_json_objects.append(obj)\n",
    "            except json.JSONDecodeError as e:\n",
    "                print(f\"Error decoding JSON: {e} in string: {json_str}\")\n",
    "                continue\n",
    "        \n",
    "        # Convert the list of valid JSON objects back to a JSON string\n",
    "        if valid_json_objects:\n",
    "            return json.dumps(valid_json_objects)\n",
    "        \n",
    "        return \"[]\"\n",
    "    except Exception as e:\n",
    "        print(f\"Error extracting JSON: {e}\")\n",
    "        return \"[]\"\n",
    "\n",
    "df['json_string'] = df['model_output'].apply(extract_json_string)"
   ]
  },
  {
   "cell_type": "code",
   "execution_count": 21,
   "id": "4dd61a07-c666-498a-919c-5a9a2a569bed",
   "metadata": {},
   "outputs": [
    {
     "data": {
      "text/plain": [
       "'[{\"text\": \"I worked in an engineering factory for years and was never supplied a back belt so I now have a bad back and the only way I can get any sleep is to take 4 pain killers before bed or smoke one joint so I\\'ll stick to what\\'s natural rather than use so many painkillers my liver will be useless in a few years so cannabis for the win with me\", \"class\": \"appeal to worse problems\"}]\\n\\nNote: The text contains an appeal to worse problems, where the author is saying that the alternative (using painkillers) is worse than the option they are advocating for (using cannabis), and therefore, they will choose the latter.'"
      ]
     },
     "execution_count": 21,
     "metadata": {},
     "output_type": "execute_result"
    }
   ],
   "source": [
    "df[\"model_output\"][73]"
   ]
  },
  {
   "cell_type": "code",
   "execution_count": 25,
   "id": "e8f5d5ba-3c9b-4393-aa37-36cedd7cecf4",
   "metadata": {},
   "outputs": [
    {
     "data": {
      "text/plain": [
       "0     [{\"text\": \"I keep seeing people asking for hig...\n",
       "1     [{\"text\": \"Two of my best friends are really i...\n",
       "2     [{\"text\": \"Someone once told me they have an '...\n",
       "3     [{\"text\": \"Joe Biden will lose to Trump if he ...\n",
       "4     [{\"text\": \"America is the best place to live, ...\n",
       "5     [{\"text\": \"Identify if this text contains the ...\n",
       "6     [{\"text\": \"Delores is a big supporter for equa...\n",
       "7     [{\"text\": \"Four out of five dentists recommend...\n",
       "8     [{\"text\": \"police need to interact with people...\n",
       "9     [{\"text\": \"The last Democrat winner of the New...\n",
       "10    [{\"text\": \"Men score better on math than women...\n",
       "11    [{\"text\": \"Identify if this text contains the ...\n",
       "12    [{\"text\": \"Carbon dioxide hurts nobody's healt...\n",
       "13                                                   []\n",
       "14    [{\"text\": \"Iran has moved forward with its nuc...\n",
       "15    [{\"text\": \"I wonder how is New York planning o...\n",
       "16    [{\"text\": \"Jeff surveys high school students i...\n",
       "17    [{\"text\": \"The Freehold Raceway Mall is the be...\n",
       "18    [{\"text\": \"What about a JD would make you thin...\n",
       "19    [{\"text\": \"The sea-ice loss is a good thing fo...\n",
       "20    [{\"text\": \"My first day of basketball practice...\n",
       "21    [{\"text\": \"Jaylen: Don't listen to him! He's a...\n",
       "22                                                   []\n",
       "23                                                   []\n",
       "24    [{\"text\": \"I lost my phone in the living room,...\n",
       "25    [{\"text\": \"So was the bar burned by a mob and ...\n",
       "26    [{\"text\": \"If he sold big amounts at 6k, he tr...\n",
       "Name: json_string, dtype: object"
      ]
     },
     "execution_count": 25,
     "metadata": {},
     "output_type": "execute_result"
    }
   ],
   "source": [
    "df[\"json_string\"].head(27)"
   ]
  },
  {
   "cell_type": "code",
   "execution_count": 7,
   "id": "e1470efc-df42-43cf-96dd-6030df5e8126",
   "metadata": {},
   "outputs": [],
   "source": [
    "df.to_csv(input_filename, index=False)"
   ]
  },
  {
   "cell_type": "code",
   "execution_count": null,
   "id": "d30a574e-e06b-488f-8bff-afd9315ca028",
   "metadata": {},
   "outputs": [],
   "source": []
  }
 ],
 "metadata": {
  "kernelspec": {
   "display_name": "Python 3 (ipykernel)",
   "language": "python",
   "name": "python3"
  },
  "language_info": {
   "codemirror_mode": {
    "name": "ipython",
    "version": 3
   },
   "file_extension": ".py",
   "mimetype": "text/x-python",
   "name": "python",
   "nbconvert_exporter": "python",
   "pygments_lexer": "ipython3",
   "version": "3.10.4"
  }
 },
 "nbformat": 4,
 "nbformat_minor": 5
}
