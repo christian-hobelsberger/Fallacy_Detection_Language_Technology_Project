{
  "nbformat": 4,
  "nbformat_minor": 0,
  "metadata": {
    "colab": {
      "provenance": []
    },
    "kernelspec": {
      "name": "python3",
      "display_name": "Python 3"
    },
    "language_info": {
      "name": "python"
    }
  },
  "cells": [
    {
      "cell_type": "markdown",
      "source": [
        "Vanilla evaluation for a single label classification. If the predicted label matches any of the target labels, it's assumed to be the correct prediction."
      ],
      "metadata": {
        "id": "KxRqWYiBuiW8"
      }
    },
    {
      "cell_type": "code",
      "source": [
        "import json\n",
        "from typing import List, Tuple"
      ],
      "metadata": {
        "id": "2ZesLq1AxaIy"
      },
      "execution_count": 44,
      "outputs": []
    },
    {
      "cell_type": "code",
      "source": [
        "LABEL_MAP = {'abusive ad hominem':1,\n",
        "             'ad populum':2,\n",
        "             'appeal to false authority':3,\n",
        "             'appeal to nature':4,\n",
        "             'appeal to tradition':5,\n",
        "             'guilt by association':6,\n",
        "             'tu quoque':7,\n",
        "             'causal oversimplification':8,\n",
        "             'circular reasoning':9,\n",
        "             'equivocation':10,\n",
        "             'false analogy':11,\n",
        "             'false causality':12,\n",
        "             'false dilemma':13,\n",
        "             'hasty generalization':14,\n",
        "             'slippery slope':15,\n",
        "             'straw man':16,\n",
        "             'fallacy of division':17,\n",
        "             'appeal to positive emotion':18,\n",
        "             'appeal to anger':19,\n",
        "             'appeal to fear':20,\n",
        "             'appeal to pity':21,\n",
        "             'appeal to ridicule':22,\n",
        "             'appeal to worse problem':23}"
      ],
      "metadata": {
        "id": "d2vPct72xoFQ"
      },
      "execution_count": 6,
      "outputs": []
    },
    {
      "cell_type": "code",
      "source": [
        "def extract_fallacies(json_predictions_path: str,\n",
        "                      json_golds_path: str):\n",
        "\n",
        "    with open(json_predictions_path, 'r') as file:\n",
        "        predictions = [json.loads(line) for line in file]\n",
        "\n",
        "    predicted_fallacies = []\n",
        "\n",
        "    for d in predictions:\n",
        "        if len(d) != 0:\n",
        "            pred = list(d[0].values())[1]\n",
        "            if pred.lower() in LABEL_MAP:\n",
        "                predicted_fallacies.append(LABEL_MAP[pred.lower()])\n",
        "            else:\n",
        "                predicted_fallacies.append(0)\n",
        "        else:\n",
        "            predicted_fallacies.append(0)\n",
        "\n",
        "    with open(json_golds_path, 'r') as j:\n",
        "        golds = json.loads(j.read())\n",
        "\n",
        "    gold_fallacies = []\n",
        "\n",
        "    for d in golds:\n",
        "        if len(list(d.values())[0]) != 0:\n",
        "            one_sample_fallacies = []\n",
        "            for f in list(d.values())[0]:\n",
        "                pred = list(f.keys())[0]\n",
        "                if pred.lower() in LABEL_MAP:\n",
        "                    one_sample_fallacies.append(LABEL_MAP[pred.lower()])\n",
        "                else:\n",
        "                    one_sample_fallacies.append(0)\n",
        "            gold_fallacies.append(one_sample_fallacies)\n",
        "        else:\n",
        "            gold_fallacies.append([0])\n",
        "\n",
        "    return predicted_fallacies, gold_fallacies"
      ],
      "metadata": {
        "id": "VOdTuKh1xcmU"
      },
      "execution_count": 72,
      "outputs": []
    },
    {
      "cell_type": "code",
      "source": [
        "def calculate_precision_recall_f1(predictions: List[int], golden_labels: List[List[int]]):\n",
        "\n",
        "    if len(predictions) != len(golden_labels):\n",
        "        return \"predictions and golden labels are not of the same length\"\n",
        "\n",
        "    TP, FP, FN = 0, 0, 0\n",
        "\n",
        "    for pred, gold in zip(predictions, golden_labels):\n",
        "        if pred in gold:\n",
        "            TP += 1\n",
        "        else:\n",
        "            FP += 1\n",
        "            FN += len(gold)\n",
        "\n",
        "    precision = TP / (TP + FP) if (TP + FP) > 0 else 0.0\n",
        "    recall = TP / (TP + FN) if (TP + FN) > 0 else 0.0\n",
        "    f1_score = (2 * precision * recall) / (precision + recall) if (precision + recall) > 0 else 0.0\n",
        "\n",
        "    print(f\"Precision: {precision:.4f}\")\n",
        "    print(f\"Recall: {recall:.4f}\")\n",
        "    print(f\"F1-score: {f1_score:.4f}\")"
      ],
      "metadata": {
        "id": "5ivK3rei1f7p"
      },
      "execution_count": 77,
      "outputs": []
    },
    {
      "cell_type": "markdown",
      "source": [
        "## Run the evaluation\n",
        "\n",
        "Example structure of example_preds.json file:\n",
        "\n",
        "\n",
        "```\n",
        "[\n",
        "    {\"TITLE: There is a difference between a'smurf' and an'alt'. Please learn it and stop using them interchangeably. POST: Someone once told me they have an 'alt' cause their main account was too high of rank to play with their friends. It's exactly the same as smurfing.\":[{\"false analogy\": [0,12]},{\"Appeal TO Fear\":[12,29]}]},\n",
        "    {\"America is the best place to live, because it's better than any other country.\": [{\"circular reasoning\": [0,78]}]}\n",
        "]\n",
        "```\n",
        "\n",
        "Example structure of example_golds.json file:\n",
        "\n",
        "\n",
        "```\n",
        "[\n",
        "    {\"TITLE: There is a difference between a'smurf' and an'alt'. Please learn it and stop using them interchangeably. POST: Someone once told me they have an 'alt' cause their main account was too high of rank to play with their friends. It's exactly the same as smurfing.\":[{\"appeal to fear\":[12,29]}]},\n",
        "    {\"America is the best place to live, because it's better than any other country.\": [{\"Circular Reasoning\": [0,78]}]}\n",
        "]\n",
        "```\n",
        "\n"
      ],
      "metadata": {
        "id": "QMRymJkKw1Mv"
      }
    },
    {
      "cell_type": "code",
      "source": [
        "predicted_fallacies, gold_fallacies = extract_fallacies('/content/llama3_sg.json', '/content/golden_dataset.json')"
      ],
      "metadata": {
        "id": "Ws6cMITx2MRK"
      },
      "execution_count": 75,
      "outputs": []
    },
    {
      "cell_type": "code",
      "source": [
        "calculate_precision_recall_f1(predicted_fallacies, gold_fallacies)"
      ],
      "metadata": {
        "colab": {
          "base_uri": "https://localhost:8080/"
        },
        "id": "29YA3c6l3Iks",
        "outputId": "029b7eb7-51f6-4bb8-f8e5-3bf30f4f8209"
      },
      "execution_count": 78,
      "outputs": [
        {
          "output_type": "stream",
          "name": "stdout",
          "text": [
            "Precision: 0.4750\n",
            "Recall: 0.3480\n",
            "F1-score: 0.4017\n"
          ]
        }
      ]
    }
  ]
}