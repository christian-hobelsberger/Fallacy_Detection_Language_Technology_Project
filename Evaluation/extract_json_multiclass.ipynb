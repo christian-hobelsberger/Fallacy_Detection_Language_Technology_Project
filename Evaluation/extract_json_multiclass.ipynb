{
 "cells": [
  {
   "cell_type": "code",
   "execution_count": 2,
   "id": "3c70e54b-dafe-4cb8-be40-42e4559e8c0e",
   "metadata": {},
   "outputs": [],
   "source": [
    "# Imports\n",
    "import pandas as pd\n",
    "import json\n",
    "import re"
   ]
  },
  {
   "cell_type": "code",
   "execution_count": 23,
   "id": "b0081784-ad79-4572-b3ae-a8153ab51ec7",
   "metadata": {},
   "outputs": [],
   "source": [
    "# Read file\n",
    "input_filename = 'df_results_gemma_multiclass.csv'\n",
    "df = pd.read_csv(input_filename)"
   ]
  },
  {
   "cell_type": "code",
   "execution_count": 24,
   "id": "dba5206f-b7a8-4e86-80c7-0fc3730d5fb0",
   "metadata": {},
   "outputs": [
    {
     "data": {
      "text/plain": [
       "'{Hasty generalization}\\n\\nThe text contains the fallacy of hasty generalization because the author draws a conclusion based on a few isolated incidents. The author assumes that because they were rushed and rejected from one sorority, they will be rushed and rejected from all sororities. This is not necessarily true.'"
      ]
     },
     "execution_count": 24,
     "metadata": {},
     "output_type": "execute_result"
    }
   ],
   "source": [
    "df[\"model_output\"][165]"
   ]
  },
  {
   "cell_type": "code",
   "execution_count": 25,
   "id": "e1a91804-90dc-43b7-b03b-36caeab4d0ea",
   "metadata": {},
   "outputs": [],
   "source": [
    "\n",
    "def extract_fallacy_class(model_output):\n",
    "    \"\"\"\n",
    "    Extracts fallacy class from the model_output string.\n",
    "    If the class is \"no fallacy\" or \"No fallacy\", returns an empty JSON string.\n",
    "    \"\"\"\n",
    "    try:\n",
    "        # Find all substrings within curly braces {}\n",
    "        matches = re.findall(r'\\{(.*?)\\}', model_output)\n",
    "        \n",
    "        # Filter out \"no fallacy\" or \"No fallacy\" classes\n",
    "        valid_classes = [match for match in matches if match.lower() != \"no fallacy\"]\n",
    "        \n",
    "        # Create a list of dictionaries with the extracted classes\n",
    "        if valid_classes:\n",
    "            result = [{\"class\": cls} for cls in valid_classes]\n",
    "            return json.dumps(result)\n",
    "        \n",
    "        return \"[]\"\n",
    "    except Exception as e:\n",
    "        print(f\"Error extracting fallacy class: {e}\")\n",
    "        return \"[]\"\n",
    "\n",
    "df['json_string'] = df['model_output'].apply(extract_fallacy_class)"
   ]
  },
  {
   "cell_type": "code",
   "execution_count": 26,
   "id": "4dd61a07-c666-498a-919c-5a9a2a569bed",
   "metadata": {},
   "outputs": [
    {
     "data": {
      "text/plain": [
       "'{Pain-relieving medication}\\n\\nThe text talks about the effectiveness of cannabis in reducing pain and its potential benefits compared to opioids. It also mentions the negative side effects of excessive painkiller use and the potential health problems associated with liver damage. However, the text does not provide any evidence to support the claims made about the efficacy of cannabis or the negative side effects of painkillers. Therefore, the text contains the fallacy of pain-relieving medication.'"
      ]
     },
     "execution_count": 26,
     "metadata": {},
     "output_type": "execute_result"
    }
   ],
   "source": [
    "df[\"model_output\"][73]"
   ]
  },
  {
   "cell_type": "code",
   "execution_count": 27,
   "id": "e8f5d5ba-3c9b-4393-aa37-36cedd7cecf4",
   "metadata": {},
   "outputs": [
    {
     "data": {
      "text/plain": [
       "0     [{\"class\": \"Causal oversimplification\"}]\n",
       "1          [{\"class\": \"Hasty generalization\"}]\n",
       "2                [{\"class\": \"slippery slope\"}]\n",
       "3     [{\"class\": \"Causal oversimplification\"}]\n",
       "4          [{\"class\": \"Hasty generalization\"}]\n",
       "5                [{\"class\": \"Slippery slope\"}]\n",
       "6          [{\"class\": \"Hasty generalization\"}]\n",
       "7          [{\"class\": \"Hasty generalization\"}]\n",
       "8          [{\"class\": \"Hasty generalization\"}]\n",
       "9          [{\"class\": \"Hasty generalization\"}]\n",
       "10         [{\"class\": \"Hasty generalization\"}]\n",
       "11              [{\"class\": \"False causality\"}]\n",
       "12              [{\"class\": \"False causality\"}]\n",
       "13               [{\"class\": \"Slippery slope\"}]\n",
       "14    [{\"class\": \"Causal oversimplification\"}]\n",
       "15               [{\"class\": \"Slippery slope\"}]\n",
       "16               [{\"class\": \"Slippery slope\"}]\n",
       "17         [{\"class\": \"Hasty generalization\"}]\n",
       "18               [{\"class\": \"Appeal to pity\"}]\n",
       "19    [{\"class\": \"Causal oversimplification\"}]\n",
       "20         [{\"class\": \"Hasty generalization\"}]\n",
       "21         [{\"class\": \"Hasty generalization\"}]\n",
       "22                    [{\"class\": \"Straw Man\"}]\n",
       "23         [{\"class\": \"Hasty generalization\"}]\n",
       "24              [{\"class\": \"False causality\"}]\n",
       "25               [{\"class\": \"Slippery slope\"}]\n",
       "26               [{\"class\": \"Slippery slope\"}]\n",
       "27         [{\"class\": \"Hasty generalization\"}]\n",
       "28         [{\"class\": \"Hasty generalization\"}]\n",
       "29    [{\"class\": \"Causal oversimplification\"}]\n",
       "Name: json_string, dtype: object"
      ]
     },
     "execution_count": 27,
     "metadata": {},
     "output_type": "execute_result"
    }
   ],
   "source": [
    "df[\"json_string\"].head(30)"
   ]
  },
  {
   "cell_type": "code",
   "execution_count": 28,
   "id": "e1470efc-df42-43cf-96dd-6030df5e8126",
   "metadata": {},
   "outputs": [],
   "source": [
    "df.to_csv(input_filename, index=False)"
   ]
  },
  {
   "cell_type": "code",
   "execution_count": null,
   "id": "d30a574e-e06b-488f-8bff-afd9315ca028",
   "metadata": {},
   "outputs": [],
   "source": []
  }
 ],
 "metadata": {
  "kernelspec": {
   "display_name": "Python 3 (ipykernel)",
   "language": "python",
   "name": "python3"
  },
  "language_info": {
   "codemirror_mode": {
    "name": "ipython",
    "version": 3
   },
   "file_extension": ".py",
   "mimetype": "text/x-python",
   "name": "python",
   "nbconvert_exporter": "python",
   "pygments_lexer": "ipython3",
   "version": "3.10.4"
  }
 },
 "nbformat": 4,
 "nbformat_minor": 5
}
