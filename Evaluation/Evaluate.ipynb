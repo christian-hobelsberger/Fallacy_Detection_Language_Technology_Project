{
  "nbformat": 4,
  "nbformat_minor": 0,
  "metadata": {
    "colab": {
      "provenance": []
    },
    "kernelspec": {
      "name": "python3",
      "display_name": "Python 3"
    },
    "language_info": {
      "name": "python"
    }
  },
  "cells": [
    {
      "cell_type": "markdown",
      "source": [
        "TODO: add some preprocessing of the data: remove punctuation"
      ],
      "metadata": {
        "id": "3Aai_GRsaLHQ"
      }
    },
    {
      "cell_type": "code",
      "source": [
        "def compute_metrics(predicted_labels, golden_labels):\n",
        "    # Initialize counters for full matches and total pairs\n",
        "    exact_matches = 0\n",
        "    total_pairs = len(predicted_labels)\n",
        "\n",
        "    # Iterate over each pair of predicted and golden labels\n",
        "    for predicted, golden in zip(predicted_labels, golden_labels):\n",
        "        # Compare the phrases after converting to lowercase\n",
        "        if predicted.lower() == golden.lower():\n",
        "            exact_matches += 1\n",
        "\n",
        "    # Calculate Precision, Recall, and F1 Score\n",
        "    precision = exact_matches / total_pairs if total_pairs > 0 else 0\n",
        "    recall = exact_matches / total_pairs if total_pairs > 0 else 0\n",
        "    f1_score = (2 * precision * recall) / (precision + recall) if (precision + recall) > 0 else 0\n",
        "\n",
        "    return precision, recall, f1_score"
      ],
      "metadata": {
        "id": "MGqe14DAaLkf"
      },
      "execution_count": 37,
      "outputs": []
    },
    {
      "cell_type": "code",
      "source": [
        "predicted_labels = [\"Appeal to Tradition\", \"appeal to fear\"]\n",
        "golden_labels = [\"appeal to fear\", \"appeal to Fear\"]\n",
        "\n",
        "precision, recall, f1_score = compute_metrics(predicted_labels, golden_labels)\n",
        "print(f\"Precision: {precision}\")\n",
        "print(f\"Recall: {recall}\")\n",
        "print(f\"F1 Score: {f1_score}\")"
      ],
      "metadata": {
        "colab": {
          "base_uri": "https://localhost:8080/"
        },
        "id": "vY_-kle3eqUw",
        "outputId": "91478311-ed46-4220-8274-af5030d61b91"
      },
      "execution_count": 42,
      "outputs": [
        {
          "output_type": "stream",
          "name": "stdout",
          "text": [
            "Precision: 0.5\n",
            "Recall: 0.5\n",
            "F1 Score: 0.5\n"
          ]
        }
      ]
    }
  ]
}