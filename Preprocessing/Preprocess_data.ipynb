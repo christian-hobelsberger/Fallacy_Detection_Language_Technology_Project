{
  "nbformat": 4,
  "nbformat_minor": 0,
  "metadata": {
    "colab": {
      "provenance": []
    },
    "kernelspec": {
      "name": "python3",
      "display_name": "Python 3"
    },
    "language_info": {
      "name": "python"
    }
  },
  "cells": [
    {
      "cell_type": "markdown",
      "source": [
        "## Golden dataset preprocessing"
      ],
      "metadata": {
        "id": "OZ_-cIHdLGoL"
      }
    },
    {
      "cell_type": "code",
      "source": [
        "from typing import Any, List, Set, Tuple, Union, Dict\n",
        "import pandas as pd\n",
        "import json\n",
        "import ast\n",
        "import pprint"
      ],
      "metadata": {
        "id": "dXMKXRj_LFpp"
      },
      "execution_count": 51,
      "outputs": []
    },
    {
      "cell_type": "code",
      "execution_count": 4,
      "metadata": {
        "colab": {
          "base_uri": "https://localhost:8080/",
          "height": 196
        },
        "id": "Gpw2gATRK_8Y",
        "outputId": "efdfac5a-27c1-400d-e20d-833dc816144b"
      },
      "outputs": [
        {
          "output_type": "execute_result",
          "data": {
            "text/plain": [
              "                                                text  \\\n",
              "0  TITLE: Endless Ledge Skip Campaign for Alts PO...   \n",
              "1  Two of my best friends are really introverted,...   \n",
              "2  TITLE: There is a difference between a'smurf' ...   \n",
              "\n",
              "                                labels  \\\n",
              "0       [[155, 588, 'slippery slope']]   \n",
              "1  [[84, 145, 'hasty generalization']]   \n",
              "2        [[118, 265, 'false analogy']]   \n",
              "\n",
              "                                            comments  \\\n",
              "0  ['Slippery slope: P1 = poster, A = why not jus...   \n",
              "1  [\"Based on two people only, you can't draw gen...   \n",
              "2  ['False Analogy: X: Having an alt , Y: smurfin...   \n",
              "\n",
              "                               sentences_with_labels  \n",
              "0  {\"TITLE: Endless Ledge Skip Campaign for Alts ...  \n",
              "1  {\"Two of my best friends are really introverte...  \n",
              "2  {\"TITLE: There is a difference between a'smurf...  "
            ],
            "text/html": [
              "\n",
              "  <div id=\"df-50820989-e9d4-4a89-95c7-6e7b40d557fb\" class=\"colab-df-container\">\n",
              "    <div>\n",
              "<style scoped>\n",
              "    .dataframe tbody tr th:only-of-type {\n",
              "        vertical-align: middle;\n",
              "    }\n",
              "\n",
              "    .dataframe tbody tr th {\n",
              "        vertical-align: top;\n",
              "    }\n",
              "\n",
              "    .dataframe thead th {\n",
              "        text-align: right;\n",
              "    }\n",
              "</style>\n",
              "<table border=\"1\" class=\"dataframe\">\n",
              "  <thead>\n",
              "    <tr style=\"text-align: right;\">\n",
              "      <th></th>\n",
              "      <th>text</th>\n",
              "      <th>labels</th>\n",
              "      <th>comments</th>\n",
              "      <th>sentences_with_labels</th>\n",
              "    </tr>\n",
              "  </thead>\n",
              "  <tbody>\n",
              "    <tr>\n",
              "      <th>0</th>\n",
              "      <td>TITLE: Endless Ledge Skip Campaign for Alts PO...</td>\n",
              "      <td>[[155, 588, 'slippery slope']]</td>\n",
              "      <td>['Slippery slope: P1 = poster, A = why not jus...</td>\n",
              "      <td>{\"TITLE: Endless Ledge Skip Campaign for Alts ...</td>\n",
              "    </tr>\n",
              "    <tr>\n",
              "      <th>1</th>\n",
              "      <td>Two of my best friends are really introverted,...</td>\n",
              "      <td>[[84, 145, 'hasty generalization']]</td>\n",
              "      <td>[\"Based on two people only, you can't draw gen...</td>\n",
              "      <td>{\"Two of my best friends are really introverte...</td>\n",
              "    </tr>\n",
              "    <tr>\n",
              "      <th>2</th>\n",
              "      <td>TITLE: There is a difference between a'smurf' ...</td>\n",
              "      <td>[[118, 265, 'false analogy']]</td>\n",
              "      <td>['False Analogy: X: Having an alt , Y: smurfin...</td>\n",
              "      <td>{\"TITLE: There is a difference between a'smurf...</td>\n",
              "    </tr>\n",
              "  </tbody>\n",
              "</table>\n",
              "</div>\n",
              "    <div class=\"colab-df-buttons\">\n",
              "\n",
              "  <div class=\"colab-df-container\">\n",
              "    <button class=\"colab-df-convert\" onclick=\"convertToInteractive('df-50820989-e9d4-4a89-95c7-6e7b40d557fb')\"\n",
              "            title=\"Convert this dataframe to an interactive table.\"\n",
              "            style=\"display:none;\">\n",
              "\n",
              "  <svg xmlns=\"http://www.w3.org/2000/svg\" height=\"24px\" viewBox=\"0 -960 960 960\">\n",
              "    <path d=\"M120-120v-720h720v720H120Zm60-500h600v-160H180v160Zm220 220h160v-160H400v160Zm0 220h160v-160H400v160ZM180-400h160v-160H180v160Zm440 0h160v-160H620v160ZM180-180h160v-160H180v160Zm440 0h160v-160H620v160Z\"/>\n",
              "  </svg>\n",
              "    </button>\n",
              "\n",
              "  <style>\n",
              "    .colab-df-container {\n",
              "      display:flex;\n",
              "      gap: 12px;\n",
              "    }\n",
              "\n",
              "    .colab-df-convert {\n",
              "      background-color: #E8F0FE;\n",
              "      border: none;\n",
              "      border-radius: 50%;\n",
              "      cursor: pointer;\n",
              "      display: none;\n",
              "      fill: #1967D2;\n",
              "      height: 32px;\n",
              "      padding: 0 0 0 0;\n",
              "      width: 32px;\n",
              "    }\n",
              "\n",
              "    .colab-df-convert:hover {\n",
              "      background-color: #E2EBFA;\n",
              "      box-shadow: 0px 1px 2px rgba(60, 64, 67, 0.3), 0px 1px 3px 1px rgba(60, 64, 67, 0.15);\n",
              "      fill: #174EA6;\n",
              "    }\n",
              "\n",
              "    .colab-df-buttons div {\n",
              "      margin-bottom: 4px;\n",
              "    }\n",
              "\n",
              "    [theme=dark] .colab-df-convert {\n",
              "      background-color: #3B4455;\n",
              "      fill: #D2E3FC;\n",
              "    }\n",
              "\n",
              "    [theme=dark] .colab-df-convert:hover {\n",
              "      background-color: #434B5C;\n",
              "      box-shadow: 0px 1px 3px 1px rgba(0, 0, 0, 0.15);\n",
              "      filter: drop-shadow(0px 1px 2px rgba(0, 0, 0, 0.3));\n",
              "      fill: #FFFFFF;\n",
              "    }\n",
              "  </style>\n",
              "\n",
              "    <script>\n",
              "      const buttonEl =\n",
              "        document.querySelector('#df-50820989-e9d4-4a89-95c7-6e7b40d557fb button.colab-df-convert');\n",
              "      buttonEl.style.display =\n",
              "        google.colab.kernel.accessAllowed ? 'block' : 'none';\n",
              "\n",
              "      async function convertToInteractive(key) {\n",
              "        const element = document.querySelector('#df-50820989-e9d4-4a89-95c7-6e7b40d557fb');\n",
              "        const dataTable =\n",
              "          await google.colab.kernel.invokeFunction('convertToInteractive',\n",
              "                                                    [key], {});\n",
              "        if (!dataTable) return;\n",
              "\n",
              "        const docLinkHtml = 'Like what you see? Visit the ' +\n",
              "          '<a target=\"_blank\" href=https://colab.research.google.com/notebooks/data_table.ipynb>data table notebook</a>'\n",
              "          + ' to learn more about interactive tables.';\n",
              "        element.innerHTML = '';\n",
              "        dataTable['output_type'] = 'display_data';\n",
              "        await google.colab.output.renderOutput(dataTable, element);\n",
              "        const docLink = document.createElement('div');\n",
              "        docLink.innerHTML = docLinkHtml;\n",
              "        element.appendChild(docLink);\n",
              "      }\n",
              "    </script>\n",
              "  </div>\n",
              "\n",
              "\n",
              "<div id=\"df-5dda69c9-f101-43df-9307-d8e8e62f251b\">\n",
              "  <button class=\"colab-df-quickchart\" onclick=\"quickchart('df-5dda69c9-f101-43df-9307-d8e8e62f251b')\"\n",
              "            title=\"Suggest charts\"\n",
              "            style=\"display:none;\">\n",
              "\n",
              "<svg xmlns=\"http://www.w3.org/2000/svg\" height=\"24px\"viewBox=\"0 0 24 24\"\n",
              "     width=\"24px\">\n",
              "    <g>\n",
              "        <path d=\"M19 3H5c-1.1 0-2 .9-2 2v14c0 1.1.9 2 2 2h14c1.1 0 2-.9 2-2V5c0-1.1-.9-2-2-2zM9 17H7v-7h2v7zm4 0h-2V7h2v10zm4 0h-2v-4h2v4z\"/>\n",
              "    </g>\n",
              "</svg>\n",
              "  </button>\n",
              "\n",
              "<style>\n",
              "  .colab-df-quickchart {\n",
              "      --bg-color: #E8F0FE;\n",
              "      --fill-color: #1967D2;\n",
              "      --hover-bg-color: #E2EBFA;\n",
              "      --hover-fill-color: #174EA6;\n",
              "      --disabled-fill-color: #AAA;\n",
              "      --disabled-bg-color: #DDD;\n",
              "  }\n",
              "\n",
              "  [theme=dark] .colab-df-quickchart {\n",
              "      --bg-color: #3B4455;\n",
              "      --fill-color: #D2E3FC;\n",
              "      --hover-bg-color: #434B5C;\n",
              "      --hover-fill-color: #FFFFFF;\n",
              "      --disabled-bg-color: #3B4455;\n",
              "      --disabled-fill-color: #666;\n",
              "  }\n",
              "\n",
              "  .colab-df-quickchart {\n",
              "    background-color: var(--bg-color);\n",
              "    border: none;\n",
              "    border-radius: 50%;\n",
              "    cursor: pointer;\n",
              "    display: none;\n",
              "    fill: var(--fill-color);\n",
              "    height: 32px;\n",
              "    padding: 0;\n",
              "    width: 32px;\n",
              "  }\n",
              "\n",
              "  .colab-df-quickchart:hover {\n",
              "    background-color: var(--hover-bg-color);\n",
              "    box-shadow: 0 1px 2px rgba(60, 64, 67, 0.3), 0 1px 3px 1px rgba(60, 64, 67, 0.15);\n",
              "    fill: var(--button-hover-fill-color);\n",
              "  }\n",
              "\n",
              "  .colab-df-quickchart-complete:disabled,\n",
              "  .colab-df-quickchart-complete:disabled:hover {\n",
              "    background-color: var(--disabled-bg-color);\n",
              "    fill: var(--disabled-fill-color);\n",
              "    box-shadow: none;\n",
              "  }\n",
              "\n",
              "  .colab-df-spinner {\n",
              "    border: 2px solid var(--fill-color);\n",
              "    border-color: transparent;\n",
              "    border-bottom-color: var(--fill-color);\n",
              "    animation:\n",
              "      spin 1s steps(1) infinite;\n",
              "  }\n",
              "\n",
              "  @keyframes spin {\n",
              "    0% {\n",
              "      border-color: transparent;\n",
              "      border-bottom-color: var(--fill-color);\n",
              "      border-left-color: var(--fill-color);\n",
              "    }\n",
              "    20% {\n",
              "      border-color: transparent;\n",
              "      border-left-color: var(--fill-color);\n",
              "      border-top-color: var(--fill-color);\n",
              "    }\n",
              "    30% {\n",
              "      border-color: transparent;\n",
              "      border-left-color: var(--fill-color);\n",
              "      border-top-color: var(--fill-color);\n",
              "      border-right-color: var(--fill-color);\n",
              "    }\n",
              "    40% {\n",
              "      border-color: transparent;\n",
              "      border-right-color: var(--fill-color);\n",
              "      border-top-color: var(--fill-color);\n",
              "    }\n",
              "    60% {\n",
              "      border-color: transparent;\n",
              "      border-right-color: var(--fill-color);\n",
              "    }\n",
              "    80% {\n",
              "      border-color: transparent;\n",
              "      border-right-color: var(--fill-color);\n",
              "      border-bottom-color: var(--fill-color);\n",
              "    }\n",
              "    90% {\n",
              "      border-color: transparent;\n",
              "      border-bottom-color: var(--fill-color);\n",
              "    }\n",
              "  }\n",
              "</style>\n",
              "\n",
              "  <script>\n",
              "    async function quickchart(key) {\n",
              "      const quickchartButtonEl =\n",
              "        document.querySelector('#' + key + ' button');\n",
              "      quickchartButtonEl.disabled = true;  // To prevent multiple clicks.\n",
              "      quickchartButtonEl.classList.add('colab-df-spinner');\n",
              "      try {\n",
              "        const charts = await google.colab.kernel.invokeFunction(\n",
              "            'suggestCharts', [key], {});\n",
              "      } catch (error) {\n",
              "        console.error('Error during call to suggestCharts:', error);\n",
              "      }\n",
              "      quickchartButtonEl.classList.remove('colab-df-spinner');\n",
              "      quickchartButtonEl.classList.add('colab-df-quickchart-complete');\n",
              "    }\n",
              "    (() => {\n",
              "      let quickchartButtonEl =\n",
              "        document.querySelector('#df-5dda69c9-f101-43df-9307-d8e8e62f251b button');\n",
              "      quickchartButtonEl.style.display =\n",
              "        google.colab.kernel.accessAllowed ? 'block' : 'none';\n",
              "    })();\n",
              "  </script>\n",
              "</div>\n",
              "    </div>\n",
              "  </div>\n"
            ],
            "application/vnd.google.colaboratory.intrinsic+json": {
              "type": "dataframe",
              "variable_name": "gold_dataset",
              "summary": "{\n  \"name\": \"gold_dataset\",\n  \"rows\": 200,\n  \"fields\": [\n    {\n      \"column\": \"text\",\n      \"properties\": {\n        \"dtype\": \"string\",\n        \"num_unique_values\": 200,\n        \"samples\": [\n          \"TITLE: Trump's plan to improve healthcare, that everyone said wouldn't work, is already working POST: Is that why my prescriptions and premiums keep going up massively? hm. Trump hasn't done shit to improve healthcare, he has done the complete opposite.\\n\",\n          \"TITLE: Sweden sees higher coronavirus death rate than US after refusing lockdown POST: I wonder how is New York planning on getting out of the lockdown, because when they get out of lockdown probably some cases are going to be going on and the whole infection thing will start again. POST: You cant stop nature. Youre going to be infected if you havent already. We are always trying to fight nature. We just have to let it run its course.\\n\",\n          \"These are unidentified people, and after the bomb goes off, they're blown to bits because they are suicidal individuals who think they're going to go to paradise if they perpetrate such an act and lose their life in doing it. We are going to, as I say, we're busy trying to find the centers where these operations stem from, and retaliation will be taken. But we're not going to simply kill some people to say,\\\"Oh, look, we got even.''\\n\"\n        ],\n        \"semantic_type\": \"\",\n        \"description\": \"\"\n      }\n    },\n    {\n      \"column\": \"labels\",\n      \"properties\": {\n        \"dtype\": \"string\",\n        \"num_unique_values\": 138,\n        \"samples\": [\n          \"[[0, 140, 'false dilemma']]\",\n          \"[[88, 140, 'Appeal to Ridicule'], [88, 140, 'equivocation'], [141, 176, 'ad hominem'], [141, 176, 'guilt by association'], [359, 482, 'circular reasoning'], [359, 482, 'false dilemma']]\",\n          \"[[0, 61, 'false analogy'], [0, 102, 'causal oversimplification']]\"\n        ],\n        \"semantic_type\": \"\",\n        \"description\": \"\"\n      }\n    },\n    {\n      \"column\": \"comments\",\n      \"properties\": {\n        \"dtype\": \"string\",\n        \"num_unique_values\": 140,\n        \"samples\": [\n          \"[\\\"Appeal to ridicule: P1 = Tennessee Senator, X = P1 calls higher education a 'liberal breeding ground', X' = P1 is saying liberals are better educated than conservatives\\\", 'Hasty Generalization: S: English professor, P: Many liberal professors, C: Abuse their positions to force their political opinion.', \\\"Strawman Fallacy: Person 1=Tennessee Senator, Y=There is a selection bias in unversity teacher and ideology, Person 2=Poster 1, Y'=There are more uneducated people in Trump electorate, A=Republican like uneducated people\\\", 'ad hominem, quite difficult to classify. It sounds like a adhominem but not toward the speaker. Which is different from our template', 'ad hominem: P1 = Big name institutions (or many of them), Y = (implicit) Big name institutions teach students to think by themselves, A = P1 are incestuous single minded orgies', \\\"equivocation: T = education, A = liberals are better educated than conservatives, M1 = education in the sense of going to school or university, B = Trump isn't the only one who loves the poorly educated, M2 = education in the sense of behave appropriately\\\"]\",\n          \"['slippery slope: A = ban Hummers, Z = ban all cars']\",\n          \"[\\\"Appeal to Fear: X = If you don't accept that is bad to our econmy, Y: It's going to blow a hole in the deficit It's going to raise taxes on nine million people and require bigger cuts than the one I vetoed\\\", 'Appeal to authority: Y = bad for economy, P1 = 500 economists including 7 nobel', 'Appeal to positive emotion: A = our plan is better, it will makes us better', 'False Dilemma: X=Apply a plan that will have a negative economic impact or Y=Apply our plan that will lead us into a growing economy', 'Slippery slop: A = deficit, B = raise taxes, C = bigger cuts']\"\n        ],\n        \"semantic_type\": \"\",\n        \"description\": \"\"\n      }\n    },\n    {\n      \"column\": \"sentences_with_labels\",\n      \"properties\": {\n        \"dtype\": \"string\",\n        \"num_unique_values\": 200,\n        \"samples\": [\n          \"{\\\"TITLE: Trump's plan to improve healthcare, that everyone said wouldn't work, is already working POST:\\\": [[\\\"nothing\\\"]], \\\"Is that why my prescriptions and premiums keep going up massively?\\\": [[\\\"hasty generalization\\\", \\\"appeal to ridicule\\\"]], \\\"Trump hasn't done shit to improve healthcare, he has done the complete opposite.\\\": [[\\\"appeal to anger\\\"]]}\",\n          \"{\\\"TITLE: Sweden sees higher coronavirus death rate than US after refusing lockdown POST: I wonder how is New York planning on getting out of the lockdown, because when they get out of lockdown probably some cases are going to be going on and the whole infection thing will start again.\\\": [[\\\"nothing\\\"]], \\\"POST:\\\": [[\\\"nothing\\\"]], \\\"You cant stop nature.\\\": [[\\\"appeal to nature\\\"]], \\\"Youre going to be infected if you havent already.\\\": [[\\\"appeal to nature\\\"]], \\\"We are always trying to fight nature.\\\": [[\\\"appeal to nature\\\"]], \\\"We just have to let it run its course.\\\": [[\\\"appeal to nature\\\"]]}\",\n          \"{\\\"These are unidentified people, and after the bomb goes off, they're blown to bits because they are suicidal individuals who think they're going to go to paradise if they perpetrate such an act and lose their life in doing it.\\\": [[\\\"nothing\\\"]], \\\"We are going to, as I say, we're busy trying to find the centers where these operations stem from, and retaliation will be taken.\\\": [[\\\"nothing\\\"]], \\\"But we're not going to simply kill some people to say,\\\\\\\"Oh, look, we got even.''\\\\n\\\": [[\\\"nothing\\\"]]}\"\n        ],\n        \"semantic_type\": \"\",\n        \"description\": \"\"\n      }\n    }\n  ]\n}"
            }
          },
          "metadata": {},
          "execution_count": 4
        }
      ],
      "source": [
        "gold_dataset = pd.read_csv(\"/content/Gold_Standard_Dataset.csv\")\n",
        "gold_dataset.head(3)"
      ]
    },
    {
      "cell_type": "code",
      "source": [
        "def convert_to_json(df:pd.DataFrame, add_fallacies:bool=True) -> List[Dict]:\n",
        "    result = []\n",
        "    for index, row in df.iterrows():\n",
        "        if add_fallacies:\n",
        "            fallacies = [{fallacy[2]: [fallacy[0], fallacy[1]]} for fallacy in ast.literal_eval(row['labels'])]\n",
        "            result.append({row['text']: fallacies})\n",
        "        else:\n",
        "            result.append({row['text']: []})\n",
        "    return result"
      ],
      "metadata": {
        "id": "8OuUP52rLEYN"
      },
      "execution_count": 42,
      "outputs": []
    },
    {
      "cell_type": "code",
      "source": [
        "result_json = convert_to_json(df=gold_dataset,add_fallacies=True)\n",
        "with open('golden_dataset.json', 'w') as f:\n",
        "    json.dump(result_json, f)"
      ],
      "metadata": {
        "id": "8zJMf6exLvWs"
      },
      "execution_count": 56,
      "outputs": []
    },
    {
      "cell_type": "code",
      "source": [
        "result_json[3]"
      ],
      "metadata": {
        "colab": {
          "base_uri": "https://localhost:8080/"
        },
        "id": "EQULLKX0NODf",
        "outputId": "ba28102e-9cd9-48b3-a191-f176fb558514"
      },
      "execution_count": 59,
      "outputs": [
        {
          "output_type": "execute_result",
          "data": {
            "text/plain": [
              "{\"TITLE: Discussion Thread (Part 3): 2020 Presidential Race Democratic Debates - Post Debate | Night 2 POST: Joe Biden will lose to Trump if he is the nominee. The Democratic party clearly has not learned the right lesson from Hillary Clinton's miserable failure. NOBODY WANTS ESTABLISHMENT POLITICIANS ANYMORE. NOBODY LIKES THE STATUS QUO. Like Jesus Christ you think they would learn. POST: The status quo in America is that its the best its ever been. We live in one of the best societies in the best times that humans have ever experienced.\\n\": [{'guilt by association': [107,\n",
              "    261]},\n",
              "  {'causal oversimplification': [107, 338]},\n",
              "  {'ad populum': [158, 338]},\n",
              "  {'nothing': [158, 338]},\n",
              "  {'circular reasoning': [391, 542]}]}"
            ]
          },
          "metadata": {},
          "execution_count": 59
        }
      ]
    },
    {
      "cell_type": "markdown",
      "source": [
        "## Collect texts for prompting"
      ],
      "metadata": {
        "id": "Lr2JO0uINoWy"
      }
    },
    {
      "cell_type": "code",
      "source": [
        "result_json = convert_to_json(df=gold_dataset,add_fallacies=False)\n",
        "with open('test_dataset.json', 'w') as f:\n",
        "    json.dump(result_json, f)"
      ],
      "metadata": {
        "id": "7BNXcwUCNnmE"
      },
      "execution_count": 60,
      "outputs": []
    },
    {
      "cell_type": "code",
      "source": [
        "result_json[3]"
      ],
      "metadata": {
        "colab": {
          "base_uri": "https://localhost:8080/"
        },
        "id": "exU0jEsvOYLF",
        "outputId": "c8580b5d-08e7-4f53-ad9e-c8ee2f101806"
      },
      "execution_count": 61,
      "outputs": [
        {
          "output_type": "execute_result",
          "data": {
            "text/plain": [
              "{\"TITLE: Discussion Thread (Part 3): 2020 Presidential Race Democratic Debates - Post Debate | Night 2 POST: Joe Biden will lose to Trump if he is the nominee. The Democratic party clearly has not learned the right lesson from Hillary Clinton's miserable failure. NOBODY WANTS ESTABLISHMENT POLITICIANS ANYMORE. NOBODY LIKES THE STATUS QUO. Like Jesus Christ you think they would learn. POST: The status quo in America is that its the best its ever been. We live in one of the best societies in the best times that humans have ever experienced.\\n\": []}"
            ]
          },
          "metadata": {},
          "execution_count": 61
        }
      ]
    }
  ]
}