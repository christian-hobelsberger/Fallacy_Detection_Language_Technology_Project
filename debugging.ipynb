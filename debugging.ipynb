{
 "cells": [
  {
   "cell_type": "code",
   "execution_count": 2,
   "metadata": {},
   "outputs": [],
   "source": [
    "import os\n",
    "import re\n",
    "from huggingface_hub import hf_hub_download\n",
    "\n",
    "def extract_hf_url_details(url):\n",
    "    # Regex pattern to extract details from the URL\n",
    "    pattern = re.compile(\n",
    "        r\"https://huggingface\\.co/(?P<repo_owner>[^/]+)/(?P<repo_name>[^/]+)/resolve/(?P<revision>[^/]+)/(?P<file_path>.+)\"\n",
    "    )\n",
    "    match = pattern.match(url)\n",
    "    if match:\n",
    "        return match.group(\"repo_owner\"), match.group(\"repo_name\"), match.group(\"revision\"), match.group(\"file_path\")\n",
    "    else:\n",
    "        raise ValueError(\"URL does not match the expected Hugging Face URL pattern\")\n",
    "\n",
    "def download_from_hf(url, local_filename):\n",
    "    try:\n",
    "        repo_owner, repo_name, revision, file_path = extract_hf_url_details(url)\n",
    "        repo_id = f\"{repo_owner}/{repo_name}\"\n",
    "        downloaded_file_path = hf_hub_download(\n",
    "            repo_id=repo_id,\n",
    "            filename=file_path,\n",
    "            revision=revision,\n",
    "            local_dir=\".\",\n",
    "            local_dir_use_symlinks=False\n",
    "        )\n",
    "        # Rename the downloaded file to the desired local filename\n",
    "        os.rename(downloaded_file_path, local_filename)\n",
    "        print(f\"Downloaded {local_filename} successfully.\")\n",
    "    except Exception as e:\n",
    "        print(f\"Error downloading file: {e}\")"
   ]
  },
  {
   "cell_type": "code",
   "execution_count": 3,
   "metadata": {},
   "outputs": [
    {
     "data": {
      "application/vnd.jupyter.widget-view+json": {
       "model_id": "21a040d933f94718940c5cba0e43e48b",
       "version_major": 2,
       "version_minor": 0
      },
      "text/plain": [
       "sum-small-IQ1_M.gguf:   0%|          | 0.00/917M [00:00<?, ?B/s]"
      ]
     },
     "metadata": {},
     "output_type": "display_data"
    },
    {
     "name": "stdout",
     "output_type": "stream",
     "text": [
      "Downloaded models/sum-small-IQ1_M.gguf successfully.\n"
     ]
    }
   ],
   "source": [
    "# Example usage\n",
    "url = \"https://huggingface.co/bartowski/sum-small-GGUF/resolve/main/sum-small-IQ1_M.gguf\"\n",
    "model_path = \"models/sum-small-IQ1_M.gguf\"\n",
    "download_from_hf(url, model_path)"
   ]
  }
 ],
 "metadata": {
  "kernelspec": {
   "display_name": "Python 3",
   "language": "python",
   "name": "python3"
  },
  "language_info": {
   "codemirror_mode": {
    "name": "ipython",
    "version": 3
   },
   "file_extension": ".py",
   "mimetype": "text/x-python",
   "name": "python",
   "nbconvert_exporter": "python",
   "pygments_lexer": "ipython3",
   "version": "3.11.8"
  }
 },
 "nbformat": 4,
 "nbformat_minor": 2
}
